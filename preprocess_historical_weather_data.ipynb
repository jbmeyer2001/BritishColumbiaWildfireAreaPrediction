{
 "cells": [
  {
   "cell_type": "code",
   "execution_count": 1,
   "id": "3d6455f8-44e2-4479-9ca0-8e920f1ed6fc",
   "metadata": {},
   "outputs": [],
   "source": [
    "import os\n",
    "import string\n",
    "import sys\n",
    "\n",
    "import numpy as np\n",
    "import pandas as pd"
   ]
  },
  {
   "cell_type": "code",
   "execution_count": 2,
   "id": "8eff2e72-c3f6-46e9-b760-fa109616d21e",
   "metadata": {},
   "outputs": [],
   "source": [
    "%store -r fire_zones\n",
    "%store -r years\n",
    "%store -r months"
   ]
  },
  {
   "cell_type": "code",
   "execution_count": 3,
   "id": "7ec6b4ed-d4f3-499d-9ebd-69386fe1cc80",
   "metadata": {},
   "outputs": [],
   "source": [
    "def get_data(df, path, zone):\n",
    "    data = pd.read_csv(path)\n",
    "    data = data[[\"Year\", \"Month\", \"Mean Temp (°C)\", \"Total Precip (mm)\"]]\n",
    "    data[[\"Zone\"]] = zone\n",
    "    df = pd.concat([df, data])"
   ]
  },
  {
   "cell_type": "code",
   "execution_count": 4,
   "id": "8882ce7f-eebe-43c4-a175-d94dc32dad0c",
   "metadata": {},
   "outputs": [
    {
     "name": "stdout",
     "output_type": "stream",
     "text": [
      "Empty DataFrame\n",
      "Columns: [year, Month, Mean Temp (°C), Total Precip (mm), Zone]\n",
      "Index: []\n"
     ]
    }
   ],
   "source": [
    "#code for iterating through directory from geeksforgeeks https://www.geeksforgeeks.org/how-to-iterate-over-files-in-directory-using-python/\n",
    "weather_data = pd.DataFrame(columns = [\"year\", \"Month\", \"Mean Temp (°C)\", \"Total Precip (mm)\", \"Zone\"])\n",
    "print(weather_data.head())\n",
    "#for zone in fire_zones:\n",
    "zone = \"Cariboo_Quesnel\"\n",
    "directory = \"data/HistoricalWeatherData/\" + zone\n",
    "for filename in os.listdir(directory):\n",
    "    file = os.path.join(directory, filename)\n",
    "    if os.path.isfile(file):\n",
    "        get_data(weather_data, file, zone)"
   ]
  },
  {
   "cell_type": "code",
   "execution_count": 22,
   "id": "f20730c6-063f-4e6e-9ab1-ede99e5c390b",
   "metadata": {},
   "outputs": [],
   "source": [
    "weather_data.to_csv(\"test.csv\")"
   ]
  },
  {
   "cell_type": "code",
   "execution_count": null,
   "id": "53669c9f-3f8c-4b92-af26-831a8ce4f078",
   "metadata": {},
   "outputs": [],
   "source": []
  }
 ],
 "metadata": {
  "kernelspec": {
   "display_name": "Python 3 (ipykernel)",
   "language": "python",
   "name": "python3"
  },
  "language_info": {
   "codemirror_mode": {
    "name": "ipython",
    "version": 3
   },
   "file_extension": ".py",
   "mimetype": "text/x-python",
   "name": "python",
   "nbconvert_exporter": "python",
   "pygments_lexer": "ipython3",
   "version": "3.11.4"
  }
 },
 "nbformat": 4,
 "nbformat_minor": 5
}
