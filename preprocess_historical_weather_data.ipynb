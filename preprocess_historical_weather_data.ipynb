{
 "cells": [
  {
   "cell_type": "code",
   "execution_count": 1,
   "id": "3d6455f8-44e2-4479-9ca0-8e920f1ed6fc",
   "metadata": {},
   "outputs": [],
   "source": [
    "import os\n",
    "import string\n",
    "import sys\n",
    "\n",
    "import numpy as np\n",
    "import pandas as pd"
   ]
  },
  {
   "cell_type": "code",
   "execution_count": 2,
   "id": "8eff2e72-c3f6-46e9-b760-fa109616d21e",
   "metadata": {},
   "outputs": [],
   "source": [
    "%store -r fire_zones\n",
    "%store -r years\n",
    "%store -r months"
   ]
  },
  {
   "cell_type": "code",
   "execution_count": 3,
   "id": "7ec6b4ed-d4f3-499d-9ebd-69386fe1cc80",
   "metadata": {},
   "outputs": [],
   "source": [
    "def add_weather_data(df, path, zone):\n",
    "    data = pd.read_csv(path)\n",
    "    data = data[[\"Year\", \"Month\", \"Mean Temp (°C)\", \"Total Precip (mm)\"]]\n",
    "    data[[\"Zone\"]] = zone\n",
    "    data = data[[\"Zone\", \"Year\", \"Month\", \"Mean Temp (°C)\", \"Total Precip (mm)\"]]\n",
    "    return pd.concat([df, data], ignore_index=True)"
   ]
  },
  {
   "cell_type": "code",
   "execution_count": 4,
   "id": "8882ce7f-eebe-43c4-a175-d94dc32dad0c",
   "metadata": {},
   "outputs": [],
   "source": [
    "#code for iterating through directory from geeksforgeeks https://www.geeksforgeeks.org/how-to-iterate-over-files-in-directory-using-python/\n",
    "weather_data = pd.DataFrame()\n",
    "\n",
    "for zone in fire_zones:\n",
    "    directory = \"data/HistoricalWeatherData/\" + zone\n",
    "    for filename in os.listdir(directory):\n",
    "        file = os.path.join(directory, filename)\n",
    "        if os.path.isfile(file):\n",
    "            weather_data = add_weather_data(weather_data, file, zone)"
   ]
  },
  {
   "cell_type": "code",
   "execution_count": 5,
   "id": "f20730c6-063f-4e6e-9ab1-ede99e5c390b",
   "metadata": {},
   "outputs": [],
   "source": [
    "weather_data.reset_index()\n",
    "weather_data = weather_data.dropna()\n",
    "for zone in fire_zones:\n",
    "    for year in years:\n",
    "        for month in months:\n",
    "            weather_df1 = weather_data[weather_data['Zone'] == zone]\n",
    "            weather_df2 = weather_df1[weather_df1['Year'] == year]\n",
    "            weather_df3 = weather_df2[weather_df2['Month'] == month]\n",
    "            weather_data = weather_data.drop(weather_df3.index)\n",
    "            precip = weather_df3[[\"Total Precip (mm)\"]].sum()[0]\n",
    "            if (weather_df3.shape[0] > 0):\n",
    "                avg_temp = weather_df3[[\"Mean Temp (°C)\"]].sum()[0] / weather_df3.shape[0]\n",
    "            else:\n",
    "                avg_temp = np.nan\n",
    "            new_row = pd.DataFrame({'Zone':zone, 'Year':[year], 'Month':[month], 'Mean Temp (°C)':[avg_temp], 'Total Precip (mm)':[precip]})\n",
    "            weather_data = pd.concat([new_row,weather_data.loc[:]])"
   ]
  },
  {
   "cell_type": "code",
   "execution_count": 6,
   "id": "53669c9f-3f8c-4b92-af26-831a8ce4f078",
   "metadata": {},
   "outputs": [],
   "source": [
    "weather_data.to_csv(\"data/weather_data.csv\")"
   ]
  }
 ],
 "metadata": {
  "kernelspec": {
   "display_name": "Python 3 (ipykernel)",
   "language": "python",
   "name": "python3"
  },
  "language_info": {
   "codemirror_mode": {
    "name": "ipython",
    "version": 3
   },
   "file_extension": ".py",
   "mimetype": "text/x-python",
   "name": "python",
   "nbconvert_exporter": "python",
   "pygments_lexer": "ipython3",
   "version": "3.11.4"
  }
 },
 "nbformat": 4,
 "nbformat_minor": 5
}
