{
 "cells": [
  {
   "cell_type": "code",
   "execution_count": 1,
   "id": "cf5678f0-9b11-4c03-8fa6-8e08ca77f14c",
   "metadata": {},
   "outputs": [],
   "source": [
    "import os\n",
    "import string\n",
    "import sys\n",
    "\n",
    "import numpy as np\n",
    "import pandas as pd"
   ]
  },
  {
   "cell_type": "code",
   "execution_count": 2,
   "id": "800c6013-0f09-43cb-ba75-061219aeefbc",
   "metadata": {},
   "outputs": [],
   "source": [
    "def get_fire_zone(fire_number):\n",
    "    zone = fire_number[0][0:2]\n",
    "    match zone:\n",
    "        case \"C1\":\n",
    "            return \"Cariboo_Quesnel\"\n",
    "        case \"C2\":\n",
    "            return \"Cariboo_CentralCariboo\"\n",
    "        case \"C3\":\n",
    "            return \"Cariboo_CentralCariboo\"\n",
    "        case \"C4\":\n",
    "            return \"Cariboo_100MileHouse\"\n",
    "        case \"C5\":\n",
    "            return \"Cariboo_Chilcotin\"\n",
    "        case \"G1\":\n",
    "            return \"PrinceGeorge_PrinceGeorge\"\n",
    "        case \"G3\":\n",
    "            return \"PrinceGeorge_Robson\"\n",
    "        case \"G4\":\n",
    "            return \"PrinceGeorge_VanJam\"\n",
    "        case \"G5\":\n",
    "            return \"PrinceGeorge_VanJam\"\n",
    "        case \"G6\":\n",
    "            return \"PrinceGeorge_Mackenzie\"\n",
    "        case \"G7\":\n",
    "            return \"PrinceGeorge_DawsonCreek\"\n",
    "        case \"G8\":\n",
    "            return \"PrinceGeorge_FortStJohn\"\n",
    "        case \"G9\":\n",
    "            return \"PrinceGeorge_FortNelson\"\n",
    "        case \"K2\":\n",
    "            return \"Kamloops_Kamloops\"\n",
    "        case \"K4\":\n",
    "            return \"Kamloops_Vernon\"\n",
    "        case \"K5\":\n",
    "            return \"Kamloops_Penticton\"\n",
    "        case \"K6\":\n",
    "            return \"Kamloops_Merritt\"\n",
    "        case \"K7\":\n",
    "            return \"Kamloops_Lillooet\"\n",
    "        case \"N1\":\n",
    "            return \"Southeast_Cranbrook\"\n",
    "        case \"N2\":\n",
    "            return \"Southeast_Invermere\"\n",
    "        case \"N4\":\n",
    "            return \"Southeast_Columbia\"\n",
    "        case \"N5\":\n",
    "            return \"Southeast_Arrow\"\n",
    "        case \"N6\":\n",
    "            return \"Southeast_Boundary\"\n",
    "        case \"N7\":\n",
    "            return \"Southeast_Kootenay\"\n",
    "        case \"R1\":\n",
    "            return \"Northwest_Nadina\"\n",
    "        case \"R2\":\n",
    "            return \"Northwest_Nadina\"\n",
    "        case \"R3\":\n",
    "            return \"Northwest_Bulkley\"\n",
    "        case \"R4\":\n",
    "            return \"Northwest_Bulkley\"\n",
    "        case \"R5\":\n",
    "            return \"Northwest_Skeena\"\n",
    "        case \"R8\":\n",
    "            return \"Northwest_Skeena\"\n",
    "        case \"R9\":\n",
    "            return \"Northwest_Cassiar\"\n",
    "        case \"V1\":\n",
    "            return \"Coastal_Fraser\"\n",
    "        case \"V3\":\n",
    "            return \"Coastal_Pemberton\"\n",
    "        case \"V5\":\n",
    "            return \"Coastal_SunshineCoast\"\n",
    "        case \"V6\":\n",
    "            return \"Coastal_SouthIsland\"\n",
    "        case \"V7\":\n",
    "            return \"Coastal_MidIsland\"\n",
    "        case \"V8\":\n",
    "            return \"Coastal_NorthIslandMidCoast\"\n",
    "        case \"V9\":\n",
    "            return \"Coastal_NorthIslandMidCoast\"\n",
    "        case \"VA\":\n",
    "            return \"Coastal_NorthIslandMidCoast\"\n",
    "        case _:\n",
    "            return np.nan"
   ]
  },
  {
   "cell_type": "code",
   "execution_count": 3,
   "id": "8e152951-458e-4780-b088-1570049ac46c",
   "metadata": {},
   "outputs": [],
   "source": [
    "def get_month(date):\n",
    "    return int(str(date[4])[5:6])"
   ]
  },
  {
   "cell_type": "code",
   "execution_count": 4,
   "id": "528863ca-8dbb-483d-80d5-7c7859d19107",
   "metadata": {},
   "outputs": [],
   "source": [
    "fire_data = pd.read_csv(\"data/HistoricalFireData/H_FIRE_PLY.csv\")\n",
    "fire_data = fire_data.drop(columns=['VERSION_NO', 'FIRELABEL', 'SOURCE', 'SHAPE', 'FIRE_CAUSE', 'TRACK_DATE', 'LOAD_DATE', 'METHOD', 'FCODE', 'OBJECTID', 'FEAT_LEN', 'X', 'Y', 'AREA_SQM'])\n",
    "fire_data = fire_data.drop(fire_data[fire_data['FIRE_YEAR'] < 2009].index)"
   ]
  },
  {
   "cell_type": "code",
   "execution_count": 5,
   "id": "a9a1019b-82ae-4ea3-bd7c-e981ffc43e31",
   "metadata": {},
   "outputs": [],
   "source": [
    "fire_data.insert(loc=0, column=\"FIRE_ZONE\", value=fire_data.apply(get_fire_zone, axis=1))\n",
    "fire_data = fire_data.dropna()\n",
    "fire_data.insert(loc=3, column=\"FIRE_MONTH\", value=fire_data.apply(get_month, axis=1))\n",
    "fire_data = fire_data.drop(columns=['FIRE_NO', 'FIRE_DATE'])"
   ]
  },
  {
   "cell_type": "markdown",
   "id": "ea6a385f-1e1b-436b-8b5a-030305704458",
   "metadata": {},
   "source": [
    "the first problem I ran into here was with the fire zones. I found a map from 2020 that indicates fire zones, although there are unfortunately some past fire zones that are not indicated by this map. I removed all the data from zones that are not indicated by this map from 2020 (this is what the dropna() is doing in the previous cell). I am also hoping that the fire zones have not changed drastically over the past 14 years or the model will not be helpful (if fire zone C1 meant a different area in 2014 than it does in 2023 for example)."
   ]
  },
  {
   "cell_type": "code",
   "execution_count": 7,
   "id": "b9f96b62-a6ef-4c1d-a9a9-310b8bebd366",
   "metadata": {},
   "outputs": [
    {
     "data": {
      "text/html": [
       "<div>\n",
       "<style scoped>\n",
       "    .dataframe tbody tr th:only-of-type {\n",
       "        vertical-align: middle;\n",
       "    }\n",
       "\n",
       "    .dataframe tbody tr th {\n",
       "        vertical-align: top;\n",
       "    }\n",
       "\n",
       "    .dataframe thead th {\n",
       "        text-align: right;\n",
       "    }\n",
       "</style>\n",
       "<table border=\"1\" class=\"dataframe\">\n",
       "  <thead>\n",
       "    <tr style=\"text-align: right;\">\n",
       "      <th></th>\n",
       "      <th>FIRE_ZONE</th>\n",
       "      <th>FIRE_YEAR</th>\n",
       "      <th>FIRE_MONTH</th>\n",
       "      <th>SIZE_HA</th>\n",
       "    </tr>\n",
       "  </thead>\n",
       "  <tbody>\n",
       "    <tr>\n",
       "      <th>18327</th>\n",
       "      <td>Northwest_Cassiar</td>\n",
       "      <td>2009</td>\n",
       "      <td>7</td>\n",
       "      <td>113.9</td>\n",
       "    </tr>\n",
       "    <tr>\n",
       "      <th>18328</th>\n",
       "      <td>Northwest_Cassiar</td>\n",
       "      <td>2009</td>\n",
       "      <td>7</td>\n",
       "      <td>118.1</td>\n",
       "    </tr>\n",
       "    <tr>\n",
       "      <th>18329</th>\n",
       "      <td>Northwest_Cassiar</td>\n",
       "      <td>2009</td>\n",
       "      <td>7</td>\n",
       "      <td>841.5</td>\n",
       "    </tr>\n",
       "    <tr>\n",
       "      <th>18330</th>\n",
       "      <td>Northwest_Cassiar</td>\n",
       "      <td>2009</td>\n",
       "      <td>7</td>\n",
       "      <td>185.0</td>\n",
       "    </tr>\n",
       "    <tr>\n",
       "      <th>18331</th>\n",
       "      <td>Kamloops_Kamloops</td>\n",
       "      <td>2009</td>\n",
       "      <td>4</td>\n",
       "      <td>49.7</td>\n",
       "    </tr>\n",
       "  </tbody>\n",
       "</table>\n",
       "</div>"
      ],
      "text/plain": [
       "               FIRE_ZONE  FIRE_YEAR  FIRE_MONTH  SIZE_HA\n",
       "18327  Northwest_Cassiar       2009           7    113.9\n",
       "18328  Northwest_Cassiar       2009           7    118.1\n",
       "18329  Northwest_Cassiar       2009           7    841.5\n",
       "18330  Northwest_Cassiar       2009           7    185.0\n",
       "18331  Kamloops_Kamloops       2009           4     49.7"
      ]
     },
     "execution_count": 7,
     "metadata": {},
     "output_type": "execute_result"
    }
   ],
   "source": [
    "fire_data.head()"
   ]
  },
  {
   "cell_type": "code",
   "execution_count": null,
   "id": "048de48b-6d89-4667-9966-0a2e46a2f772",
   "metadata": {},
   "outputs": [],
   "source": []
  },
  {
   "cell_type": "code",
   "execution_count": 8,
   "id": "07d7f960-114b-43a2-a610-a5b1f00a9e45",
   "metadata": {},
   "outputs": [],
   "source": [
    "fire_data.to_csv('fire_data.csv')"
   ]
  },
  {
   "cell_type": "code",
   "execution_count": null,
   "id": "194941fd-4a35-4bc0-ada3-106c3ec32b23",
   "metadata": {},
   "outputs": [],
   "source": []
  }
 ],
 "metadata": {
  "kernelspec": {
   "display_name": "Python 3 (ipykernel)",
   "language": "python",
   "name": "python3"
  },
  "language_info": {
   "codemirror_mode": {
    "name": "ipython",
    "version": 3
   },
   "file_extension": ".py",
   "mimetype": "text/x-python",
   "name": "python",
   "nbconvert_exporter": "python",
   "pygments_lexer": "ipython3",
   "version": "3.11.4"
  }
 },
 "nbformat": 4,
 "nbformat_minor": 5
}
