{
 "cells": [
  {
   "cell_type": "code",
   "execution_count": 8,
   "id": "eb353dc6-5183-43a2-aa24-0440613a65d1",
   "metadata": {},
   "outputs": [],
   "source": [
    "import os\n",
    "import string\n",
    "import sys\n",
    "\n",
    "import numpy as np\n",
    "import pandas as pd"
   ]
  },
  {
   "cell_type": "code",
   "execution_count": 9,
   "id": "a4d2bfee-f016-4b04-bd6a-e9c00d42d0ce",
   "metadata": {},
   "outputs": [],
   "source": [
    "%store -r fire_zones\n",
    "%store -r years\n",
    "%store -r months"
   ]
  },
  {
   "cell_type": "code",
   "execution_count": 10,
   "id": "e032760f-215c-499d-85b6-949b52344b6b",
   "metadata": {},
   "outputs": [],
   "source": [
    "fire_data = pd.read_csv(\"data/fire_data.csv\")\n",
    "weather_data = pd.read_csv(\"data/weather_data.csv\")\n",
    "combined_data = pd.DataFrame(columns=['zone', 'year', 'month', 'area_burned', 'total_precip', 'mean_temp'])"
   ]
  },
  {
   "cell_type": "code",
   "execution_count": 11,
   "id": "9229da23-77cf-4e70-997e-dba2e1e51cd4",
   "metadata": {},
   "outputs": [],
   "source": [
    "for zone in fire_zones:\n",
    "    for year in years:\n",
    "        for month in months:\n",
    "            weather = weather_data[weather_data['Zone'] == zone]\n",
    "            fire = fire_data[fire_data['FIRE_ZONE'] == zone]\n",
    "            weather = weather[weather['Year'] == year]\n",
    "            fire = fire[fire['FIRE_YEAR'] == year]\n",
    "            weather = weather[weather['Month'] == month]\n",
    "            fire = fire[fire['FIRE_MONTH'] == month]\n",
    "            area_burned = fire[\"SIZE_HA\"][fire[\"SIZE_HA\"].index[0]]\n",
    "            total_precip = weather[\"Total Precip (mm)\"][weather[\"Total Precip (mm)\"].index[0]]\n",
    "            mean_temp = weather[\"Mean Temp (°C)\"][weather[\"Mean Temp (°C)\"].index[0]]\n",
    "            new_row = pd.DataFrame({'zone':zone, 'year':[year], 'month':[month], 'area_burned':[area_burned], 'mean_temp':[mean_temp], 'total_precip':[total_precip]})\n",
    "            combined_data = pd.concat([new_row,combined_data.loc[:]])"
   ]
  },
  {
   "cell_type": "code",
   "execution_count": 12,
   "id": "05e57b07-cb8f-4105-b656-fb2907bb83d2",
   "metadata": {},
   "outputs": [
    {
     "name": "stdout",
     "output_type": "stream",
     "text": [
      "               zone  year month  area_burned  mean_temp  total_precip\n",
      "0   Cariboo_Quesnel  2022    12          0.0 -12.566667          39.9\n",
      "0   Cariboo_Quesnel  2022    11          0.0  -6.050000          48.2\n",
      "0   Cariboo_Quesnel  2022    10          0.0   8.241935           4.8\n",
      "0   Cariboo_Quesnel  2022     9          0.0  13.276667          30.8\n",
      "0   Cariboo_Quesnel  2022     8          8.4  19.287097          43.7\n",
      "..              ...   ...   ...          ...        ...           ...\n",
      "0   Cariboo_Quesnel  2008     5          0.0  11.693548          64.5\n",
      "0   Cariboo_Quesnel  2008     4          0.0   3.190000          15.0\n",
      "0   Cariboo_Quesnel  2008     3          0.0   0.436667          27.0\n",
      "0   Cariboo_Quesnel  2008     2          0.0  -4.762069          39.5\n",
      "0   Cariboo_Quesnel  2008     1          0.0  -8.761290          29.0\n",
      "\n",
      "[180 rows x 6 columns]\n"
     ]
    }
   ],
   "source": [
    "combined_data.to_csv(\"combined_data.csv\")"
   ]
  }
 ],
 "metadata": {
  "kernelspec": {
   "display_name": "Python 3 (ipykernel)",
   "language": "python",
   "name": "python3"
  },
  "language_info": {
   "codemirror_mode": {
    "name": "ipython",
    "version": 3
   },
   "file_extension": ".py",
   "mimetype": "text/x-python",
   "name": "python",
   "nbconvert_exporter": "python",
   "pygments_lexer": "ipython3",
   "version": "3.11.4"
  }
 },
 "nbformat": 4,
 "nbformat_minor": 5
}
