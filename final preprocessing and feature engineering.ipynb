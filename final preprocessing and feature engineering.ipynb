{
 "cells": [
  {
   "cell_type": "code",
   "execution_count": 1,
   "id": "eb353dc6-5183-43a2-aa24-0440613a65d1",
   "metadata": {},
   "outputs": [],
   "source": [
    "import os\n",
    "import string\n",
    "import sys\n",
    "\n",
    "import numpy as np\n",
    "import pandas as pd\n",
    "\n",
    "import calendar\n",
    "from datetime import datetime"
   ]
  },
  {
   "cell_type": "code",
   "execution_count": 2,
   "id": "a4d2bfee-f016-4b04-bd6a-e9c00d42d0ce",
   "metadata": {},
   "outputs": [],
   "source": [
    "%store -r fire_zones\n",
    "%store -r years\n",
    "%store -r months"
   ]
  },
  {
   "cell_type": "code",
   "execution_count": 3,
   "id": "e032760f-215c-499d-85b6-949b52344b6b",
   "metadata": {},
   "outputs": [],
   "source": [
    "fire_data = pd.read_csv(\"data/fire_data.csv\")\n",
    "weather_data = pd.read_csv(\"data/weather_data.csv\")\n",
    "combined_data = pd.DataFrame(columns=['zone', 'date', 'month', 'year', 'area_burned (HA)', 'total_precip (mm)', 'mean_temp (C)'])"
   ]
  },
  {
   "cell_type": "code",
   "execution_count": 4,
   "id": "9229da23-77cf-4e70-997e-dba2e1e51cd4",
   "metadata": {},
   "outputs": [],
   "source": [
    "for zone in fire_zones:\n",
    "    for year in years:\n",
    "        for month in months:\n",
    "            weather = weather_data[weather_data['Zone'] == zone]\n",
    "            fire = fire_data[fire_data['FIRE_ZONE'] == zone]\n",
    "            weather = weather[weather['Year'] == year]\n",
    "            fire = fire[fire['FIRE_YEAR'] == year]\n",
    "            weather = weather[weather['Month'] == month]\n",
    "            fire = fire[fire['FIRE_MONTH'] == month]\n",
    "            \n",
    "            area_burned = fire[\"SIZE_HA\"][fire[\"SIZE_HA\"].index[0]]\n",
    "            total_precip = weather[\"Total Precip (mm)\"][weather[\"Total Precip (mm)\"].index[0]]\n",
    "            mean_temp = weather[\"Mean Temp (°C)\"][weather[\"Mean Temp (°C)\"].index[0]]\n",
    "            date = datetime(year, month, calendar.monthrange(year, month)[1])\n",
    "            \n",
    "            new_row = pd.DataFrame({'zone':zone, 'date':date, 'month':[month], 'year':[year], 'mean_temp (C)':[mean_temp], 'total_precip (mm)':[total_precip], 'area_burned (HA)':[area_burned]})\n",
    "            combined_data = pd.concat([new_row,combined_data.loc[:]])"
   ]
  },
  {
   "cell_type": "code",
   "execution_count": 5,
   "id": "1ce00f2e-c4f2-4bb7-9942-e282a030abab",
   "metadata": {},
   "outputs": [],
   "source": [
    "combined_data.reset_index(inplace=True)\n",
    "combined_data = combined_data.drop(columns=[\"index\"])"
   ]
  },
  {
   "cell_type": "code",
   "execution_count": 6,
   "id": "9b75dfbb-dd70-4f53-a233-a376a55e08d4",
   "metadata": {},
   "outputs": [],
   "source": [
    "for lag in range(1, 12):\n",
    "    mean_temp_col = \"mean_temp_lag\" + str(lag)\n",
    "    total_precip_col = \"total_precip_lag\" + str(lag)\n",
    "    combined_data[mean_temp_col] = combined_data.groupby(['zone'])['mean_temp (C)'].shift(-1 * lag)\n",
    "    combined_data[total_precip_col] = combined_data.groupby(['zone'])['total_precip (mm)'].shift(-1 * lag)"
   ]
  },
  {
   "cell_type": "markdown",
   "id": "fc4ac80a-c225-4f4c-9842-4e166259b03b",
   "metadata": {},
   "source": [
    "The fire data in the format that I require only exists in 2009 and onward, the 2008 weather data was included solely to create lagged features and thus is no longer required."
   ]
  },
  {
   "cell_type": "code",
   "execution_count": 7,
   "id": "bff84fc3-c45d-44f4-b549-9fececc1bad1",
   "metadata": {},
   "outputs": [],
   "source": [
    "combined_data = combined_data.drop(combined_data[combined_data['year'] < 2009].index)\n",
    "combined_data = combined_data.drop(columns=['year'])"
   ]
  },
  {
   "cell_type": "code",
   "execution_count": 8,
   "id": "e36a8d68-7b53-4ec2-9cd9-2e97f469bd08",
   "metadata": {},
   "outputs": [
    {
     "name": "stdout",
     "output_type": "stream",
     "text": [
      "5376\n"
     ]
    }
   ],
   "source": [
    "print(combined_data.shape[0])"
   ]
  },
  {
   "cell_type": "code",
   "execution_count": 9,
   "id": "035d6198-c888-4302-a39d-6705b5534100",
   "metadata": {},
   "outputs": [
    {
     "name": "stdout",
     "output_type": "stream",
     "text": [
      "4614\n"
     ]
    }
   ],
   "source": [
    "print(combined_data.dropna().shape[0])"
   ]
  },
  {
   "cell_type": "markdown",
   "id": "78812623-fa38-4f82-874b-0b60b93dc681",
   "metadata": {},
   "source": [
    "There are unfortunately a lot of missing values in the weather data I was able to find and download. About 13.6% of my data has missing values, my understanding is that this is just something to deal with when it comes to weather data. If I had more time I would do more research and try to find a way to fill in the missing values, or acquire my data from somewhere that has more consistent data.\n",
    "\n",
    "One very notable thing about the missing values is they tend to be clustered together (IE: the first 6 months in 2013 in 'x' fire zone are missing, as opposed to randomly spaced missing data). Because of this I am choosing to throw away all rows with missing values as opposed to impute them, my thought process is that since most of the columns of a particular row affected by the missing values would be missing (since most of the columns are lagged temperature and precipitation amounts, and the missing values are temporally close) it would cause the imputed rows to be either ineffectual or detrimental. "
   ]
  },
  {
   "cell_type": "code",
   "execution_count": 10,
   "id": "7439d34b-de52-4690-8ef3-bcbae2d558cd",
   "metadata": {},
   "outputs": [],
   "source": [
    "combined_data = combined_data.dropna()"
   ]
  },
  {
   "cell_type": "code",
   "execution_count": 11,
   "id": "0378e566-be25-4c65-9cd9-e3a2e4440b27",
   "metadata": {},
   "outputs": [],
   "source": [
    "combined_data.to_csv(\"data/combined_data.csv\")"
   ]
  }
 ],
 "metadata": {
  "kernelspec": {
   "display_name": "Python 3 (ipykernel)",
   "language": "python",
   "name": "python3"
  },
  "language_info": {
   "codemirror_mode": {
    "name": "ipython",
    "version": 3
   },
   "file_extension": ".py",
   "mimetype": "text/x-python",
   "name": "python",
   "nbconvert_exporter": "python",
   "pygments_lexer": "ipython3",
   "version": "3.11.4"
  }
 },
 "nbformat": 4,
 "nbformat_minor": 5
}
